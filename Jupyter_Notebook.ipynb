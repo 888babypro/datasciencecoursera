{
 "cells": [
  {
   "cell_type": "markdown",
   "metadata": {},
   "source": [
    "<center>\n",
    "    <img src=\"https://cf-courses-data.s3.us.cloud-object-storage.appdomain.cloud/IBMDeveloperSkillsNetwork-DS0105EN-SkillsNetwork/labs/Module2/images/SN_web_lightmode.png\" width=\"300\" alt=\"cognitiveclass.ai logo\">\n",
    "</center>\n"
   ]
  },
  {
   "cell_type": "markdown",
   "metadata": {},
   "source": [
    "#### Add your code below following the instructions given in the course\n"
   ]
  },
  {
   "cell_type": "code",
   "execution_count": null,
   "metadata": {},
   "outputs": [],
   "source": [
    "# Final Data Science Project\n",
    "## Introduction \n",
    "this notebook demonstrates the basics of data science \n",
    "##data Science Languages\n",
    "- Python \n",
    "- R \n",
    "- SQL\n",
    "- Julia\n",
    "- Scala\n",
    "##Data Science Librairies \n",
    "- Pandas\n",
    "- Numpy\n",
    "- Matplotlib\n",
    "- scikit-learn\n",
    "- Tensorflow\n",
    "- PyTorch\n",
    "\n",
    "\n",
    "\n"
   ]
  },
  {
   "cell_type": "markdown",
   "metadata": {},
   "source": [
    "## Data Science Tools\n",
    "\n",
    "| Tool             | Description / Usage              |\n",
    "|------------------|----------------------------------|\n",
    "| Jupyter Notebook | Interactive environment for coding and analysis |\n",
    "| RStudio          | IDE for R, used in statistics and visualization |\n",
    "| GitHub           | Version control and code sharing |\n",
    "| VS Code          | Lightweight code editor with extensions |\n",
    "| Apache Spark     | Big data processing framework    |"
   ]
  },
  {
   "cell_type": "code",
   "execution_count": null,
   "metadata": {},
   "outputs": [],
   "source": [
    "## Arithmetic Expressions\n",
    "Examples of arithmetic: addition, multiplication, division."
   ]
  },
  {
   "cell_type": "code",
   "execution_count": null,
   "metadata": {},
   "outputs": [],
   "source": [
    "a = 5\n",
    "b = 10\n",
    "print(\"Addition:\", a + b)\n",
    "print(\"Multiplication:\", a * b)"
   ]
  },
  {
   "cell_type": "code",
   "execution_count": null,
   "metadata": {},
   "outputs": [],
   "source": [
    "minutes = 120\n",
    "hours = minutes / 60\n",
    "print(f\"{minutes} minutes = {hours} hours\")"
   ]
  },
  {
   "cell_type": "code",
   "execution_count": null,
   "metadata": {},
   "outputs": [],
   "source": [
    "## Objectives\n",
    "- Learn the basics of Jupyter Notebook  \n",
    "- Explore Data Science tools  \n",
    "- Practice simple Python calculations  \n",
    "- Share a project on GitHub  "
   ]
  },
  {
   "cell_type": "code",
   "execution_count": null,
   "metadata": {},
   "outputs": [],
   "source": [
    "## Author\n",
    "Mikaela Jiana"
   ]
  }
 ],
 "metadata": {
  "kernelspec": {
   "display_name": "Python 3 (ipykernel)",
   "language": "python",
   "name": "python3"
  },
  "language_info": {
   "codemirror_mode": {
    "name": "ipython",
    "version": 3
   },
   "file_extension": ".py",
   "mimetype": "text/x-python",
   "name": "python",
   "nbconvert_exporter": "python",
   "pygments_lexer": "ipython3",
   "version": "3.12.8"
  }
 },
 "nbformat": 4,
 "nbformat_minor": 4
}
